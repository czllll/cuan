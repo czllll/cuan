{
 "cells": [
  {
   "cell_type": "code",
   "id": "initial_id",
   "metadata": {
    "collapsed": true,
    "ExecuteTime": {
     "end_time": "2024-12-26T10:22:07.029708Z",
     "start_time": "2024-12-26T10:22:07.017442Z"
    }
   },
   "source": [
    "import pandas as pd\n",
    "import numpy as np\n",
    "# 假设历史案例数据如下\n",
    "data = [\n",
    "    {'budget': 5000, 'purpose': 'gaming', 'cpu': 'i5-11400F', 'gpu': 'RTX 3060', 'ram': '16G', 'ssd': '512G'},\n",
    "    {'budget': 6000, 'purpose': 'gaming', 'cpu': 'i5-12600KF', 'gpu': 'RTX 3060Ti', 'ram': '16G', 'ssd': '512G'},\n",
    "    {'budget': 8000, 'purpose': 'gaming', 'cpu': 'i7-12700F', 'gpu': 'RTX 3070', 'ram': '32G', 'ssd': '1T'},\n",
    "    {'budget': 4000, 'purpose': 'office', 'cpu': 'i5-12400F', 'gpu': 'RTX 3050', 'ram': '16G', 'ssd': '256G'},\n",
    "    {'budget': 3000, 'purpose': 'office', 'cpu': 'i3-12100F', 'gpu': 'GTX 1650', 'ram': '8G', 'ssd': '256G'},\n",
    "]\n",
    "\n",
    "df = pd.DataFrame(data)"
   ],
   "outputs": [],
   "execution_count": 3
  },
  {
   "metadata": {
    "ExecuteTime": {
     "end_time": "2024-12-26T10:24:23.852601Z",
     "start_time": "2024-12-26T10:24:23.594129Z"
    }
   },
   "cell_type": "code",
   "source": [
    "from sklearn.preprocessing import OneHotEncoder\n",
    "\n",
    "# 用途转 one-hot 编码\n",
    "enc = OneHotEncoder(handle_unknown='ignore')\n",
    "purpose_encoded = enc.fit_transform(df[['purpose']]).toarray()\n",
    "\n",
    "# 预算归一化到 0-1 区间\n",
    "budget_min, budget_max = df['budget'].min(), df['budget'].max()\n",
    "budget_normalized = (df['budget'] - budget_min) / (budget_max - budget_min)\n",
    "\n",
    "# 组装特征矩阵\n",
    "X = np.hstack([budget_normalized.values.reshape(-1, 1), purpose_encoded])  # 修改了这一行\n",
    "\n",
    "from sklearn.ensemble import RandomForestClassifier\n",
    "from sklearn.multioutput import MultiOutputClassifier\n",
    "\n",
    "y = df[['cpu', 'gpu', 'ram', 'ssd']]\n",
    "\n",
    "model = MultiOutputClassifier(RandomForestClassifier())\n",
    "model.fit(X, y)\n",
    "\n",
    "# 假设新需求如下\n",
    "new_req = {'budget': 7000, 'purpose': 'gaming'}\n",
    "\n",
    "# 特征转换 \n",
    "new_budget_normalized = (new_req['budget'] - budget_min) / (budget_max - budget_min)\n",
    "new_purpose_encoded = enc.transform([[new_req['purpose']]]).toarray()\n",
    "new_X = np.hstack([new_budget_normalized.reshape(1, -1), new_purpose_encoded])  # 修改了这一行\n",
    "\n",
    "# 用模型预测\n",
    "rec = model.predict(new_X)\n",
    "print(dict(zip(['cpu', 'gpu', 'ram', 'ssd'], rec[0])))"
   ],
   "id": "5516df2fd05b961d",
   "outputs": [
    {
     "name": "stdout",
     "output_type": "stream",
     "text": [
      "{'cpu': 'i5-12600KF', 'gpu': 'RTX 3060Ti', 'ram': '16G', 'ssd': '512G'}\n"
     ]
    },
    {
     "name": "stderr",
     "output_type": "stream",
     "text": [
      "/Users/czl/code/cuan/ml/recommend/.venv/lib/python3.12/site-packages/sklearn/utils/validation.py:2739: UserWarning: X does not have valid feature names, but OneHotEncoder was fitted with feature names\n",
      "  warnings.warn(\n"
     ]
    }
   ],
   "execution_count": 8
  }
 ],
 "metadata": {
  "kernelspec": {
   "display_name": "Python 3",
   "language": "python",
   "name": "python3"
  },
  "language_info": {
   "codemirror_mode": {
    "name": "ipython",
    "version": 2
   },
   "file_extension": ".py",
   "mimetype": "text/x-python",
   "name": "python",
   "nbconvert_exporter": "python",
   "pygments_lexer": "ipython2",
   "version": "2.7.6"
  }
 },
 "nbformat": 4,
 "nbformat_minor": 5
}
